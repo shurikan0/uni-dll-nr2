{
 "cells": [
  {
   "cell_type": "code",
   "execution_count": null,
   "metadata": {},
   "outputs": [],
   "source": [
    "# install the package\n",
    "%pip install --upgrade mani_skill\n",
    "# install a version of torch that is compatible with your system\n",
    "%pip install torch torchvision torchaudio"
   ]
  },
  {
   "cell_type": "code",
   "execution_count": null,
   "metadata": {},
   "outputs": [],
   "source": [
    "#MP_SOLUTIONS = {\n",
    "#    \"PickCube-v1\": solvePickCube,\n",
    "#    \"StackCube-v1\": solveStackCube,\n",
    "#    \"PegInsertionSide-v1\": solvePegInsertionSide,\n",
    "#    \"PlugCharger-v1\": solvePlugCharger,\n",
    "#    \"PushCube-v1\": solvePushCube,\n",
    "#}"
   ]
  },
  {
   "cell_type": "code",
   "execution_count": null,
   "metadata": {},
   "outputs": [],
   "source": [
    "!python -m mani_skill.examples.motionplanning.panda.run -e \"PickCube-v1\"\\\n",
    "    --save-video \\\n",
    "    --num-traj 10 \\\n",
    "    --only-count-success \\\n",
    "    --record-dir /content/drive/MyDrive/Data/Training/generated\n",
    "    \n",
    "\n"
   ]
  },
  {
   "cell_type": "code",
   "execution_count": null,
   "metadata": {},
   "outputs": [],
   "source": [
    "#!python -m mani_skill.utils.download_demo all\n"
   ]
  },
  {
   "cell_type": "code",
   "execution_count": null,
   "metadata": {},
   "outputs": [],
   "source": [
    "# Replay demonstrations with control_mode=pd_joint_pos\n",
    "#!python -m mani_skill.trajectory.replay_trajectory \\\n",
    "#  --traj-path /content/drive/MyDrive/Data/Training/demos/PickCube-v1/rl/trajectory.h5 \\\n",
    "#  --save-traj --target-control-mode pd_joint_pos \\\n",
    "#  --obs-mode state --num-procs 10\n",
    "\n",
    "#!python -m mani_skill.trajectory.replay_trajectory \\\n",
    "#  --traj-path ./data/PickCube-v1/rl/trajectory.h5 \\\n",
    "#  --save-traj \\\n",
    "#  --obs-mode pointcloud \\\n",
    "#  --sim-backend cpu"
   ]
  }
 ],
 "metadata": {
  "kernelspec": {
   "display_name": "myenv",
   "language": "python",
   "name": "python3"
  },
  "language_info": {
   "name": "python",
   "version": "3.12.3"
  }
 },
 "nbformat": 4,
 "nbformat_minor": 2
}
