{
 "cells": [
  {
   "cell_type": "code",
   "execution_count": null,
   "metadata": {},
   "outputs": [],
   "source": [
    "state_dict = torch.load(model_path, map_location='cuda')\n",
    "ema_noise_pred_net = noise_pred_net\n",
    "ema_noise_pred_net.load_state_dict(state_dict['model_state_dict'])\n",
    "print('Pretrained weights loaded.')"
   ]
  }
 ],
 "metadata": {
  "language_info": {
   "name": "python"
  }
 },
 "nbformat": 4,
 "nbformat_minor": 2
}
