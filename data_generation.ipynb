{
 "cells": [
  {
   "cell_type": "code",
   "execution_count": null,
   "metadata": {},
   "outputs": [],
   "source": [
    "# install the package\n",
    "%pip install --upgrade mani_skill\n",
    "# install a version of torch that is compatible with your system\n",
    "%pip install torch torchvision torchaudio"
   ]
  },
  {
   "cell_type": "markdown",
   "metadata": {},
   "source": [
    "- PickCube-v1\n",
    "- StackCube-v1\n",
    "- PegInsertionSide-v1\n",
    "- PlugCharger-v1\n",
    "- PushCube-v1"
   ]
  },
  {
   "cell_type": "markdown",
   "metadata": {},
   "source": [
    "# Parameters for panda\n",
    "\n",
    "- \"-e\", \"--env-id\", type=str, default=\"PickCube-v1\", help=f\"Environment to run motion planning solver on\n",
    "- \"-o\", \"--obs-mode\", type=str, default=\"none\", help=\"Observation mode to use. Usually this is kept as 'none' as observations are not necesary to be stored, they can be replayed later via the mani_skill.trajectory.replay_trajectory script.\n",
    "- \"-n\", \"--num-traj\", type=int, default=10, help=\"Number of trajectories to generate.\"\n",
    "- \"--only-count-success\", action=\"store_true\", help=\"If true, generates trajectories until num_traj of them are successful and only saves the successful trajectories/videos\"\n",
    "- \"--reward-mode\", type=str\n",
    "- \"-b\", \"--sim-backend\", type=str, default=\"auto\", help=\"Which simulation backend to use. Can be 'auto', 'cpu', 'gpu'\"\n",
    "- \"--render-mode\", type=str, default=\"rgb_array\", help=\"can be 'sensors' or 'rgb_array' which only affect what is saved to videos\"\n",
    "- \"--vis\", action=\"store_true\", help=\"whether or not to open a GUI to visualize the solution live\"\n",
    "- \"--save-video\", action=\"store_true\", help=\"whether or not to save videos locally\"\n",
    "- \"--traj-name\", type=str, help=\"The name of the trajectory .h5 file that will be created.\"\n",
    "- \"--shader\", default=\"default\", type=str, help=\"Change shader used for rendering. Default is 'default' which is very fast. Can also be 'rt' for ray tracing and generating photo-realistic renders. Can also be 'rt-fast' for a faster but lower quality ray-traced renderer\"\n",
    "- \"--record-dir\", type=str, default=\"demos\", help=\"where to save the recorded trajectories\""
   ]
  },
  {
   "cell_type": "code",
   "execution_count": null,
   "metadata": {},
   "outputs": [],
   "source": [
    "\n",
    "!python -m mani_skill.examples.motionplanning.panda.run -e \"PickCube-v1\"\\\n",
    "    --num-traj 100 \\\n",
    "    --only-count-success \\ \n",
    "    --record-dir /content/drive/MyDrive/Data/Training/Generated \\\n",
    "    --traj-name data100 #File name is data100.h5\n",
    "    \n",
    "\n",
    "!python -m mani_skill.trajectory.replay_trajectory \\\n",
    "  --traj-path /content/drive/MyDrive/Data/Training/Generated/PickCube-v1/data100.h5 \\\n",
    "  --save-traj \\\n",
    "  --obs-mode pointcloud \\\n",
    "  --sim-backend gpu"
   ]
  },
  {
   "cell_type": "code",
   "execution_count": null,
   "metadata": {},
   "outputs": [],
   "source": [
    "\n",
    "\n"
   ]
  },
  {
   "cell_type": "code",
   "execution_count": null,
   "metadata": {},
   "outputs": [],
   "source": [
    "\n"
   ]
  }
 ],
 "metadata": {
  "kernelspec": {
   "display_name": "myenv",
   "language": "python",
   "name": "python3"
  },
  "language_info": {
   "name": "python",
   "version": "3.12.3"
  }
 },
 "nbformat": 4,
 "nbformat_minor": 2
}
