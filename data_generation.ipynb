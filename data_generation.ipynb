{
 "cells": [
  {
   "cell_type": "code",
   "execution_count": null,
   "metadata": {},
   "outputs": [],
   "source": [
    "# install the package\n",
    "%pip install --upgrade mani_skill\n",
    "# install a version of torch that is compatible with your system\n",
    "%pip install torch torchvision torchaudio"
   ]
  },
  {
   "cell_type": "code",
   "execution_count": null,
   "metadata": {},
   "outputs": [],
   "source": [
    "#MP_SOLUTIONS = {\n",
    "#    \"PickCube-v1\": solvePickCube,\n",
    "#    \"StackCube-v1\": solveStackCube,\n",
    "#    \"PegInsertionSide-v1\": solvePegInsertionSide,\n",
    "#    \"PlugCharger-v1\": solvePlugCharger,\n",
    "#    \"PushCube-v1\": solvePushCube,\n",
    "#}"
   ]
  },
  {
   "cell_type": "markdown",
   "metadata": {},
   "source": [
    "  parser.add_argument(\"-e\", \"--env-id\", type=str, default=\"PickCube-v1\", help=f\"Environment to run motion planning solver on. Available options are {list(MP_SOLUTIONS.keys())}\")\n",
    "    parser.add_argument(\"-o\", \"--obs-mode\", type=str, default=\"none\", help=\"Observation mode to use. Usually this is kept as 'none' as observations are not necesary to be stored, they can be replayed later via the mani_skill.trajectory.replay_trajectory script.\")\n",
    "    parser.add_argument(\"-n\", \"--num-traj\", type=int, default=10, help=\"Number of trajectories to generate.\")\n",
    "    parser.add_argument(\"--only-count-success\", action=\"store_true\", help=\"If true, generates trajectories until num_traj of them are successful and only saves the successful trajectories/videos\")\n",
    "    parser.add_argument(\"--reward-mode\", type=str)\n",
    "    parser.add_argument(\"-b\", \"--sim-backend\", type=str, default=\"auto\", help=\"Which simulation backend to use. Can be 'auto', 'cpu', 'gpu'\")\n",
    "    parser.add_argument(\"--render-mode\", type=str, default=\"rgb_array\", help=\"can be 'sensors' or 'rgb_array' which only affect what is saved to videos\")\n",
    "    parser.add_argument(\"--vis\", action=\"store_true\", help=\"whether or not to open a GUI to visualize the solution live\")\n",
    "    parser.add_argument(\"--save-video\", action=\"store_true\", help=\"whether or not to save videos locally\")\n",
    "    parser.add_argument(\"--traj-name\", type=str, help=\"The name of the trajectory .h5 file that will be created.\")\n",
    "    parser.add_argument(\"--shader\", default=\"default\", type=str, help=\"Change shader used for rendering. Default is 'default' which is very fast. Can also be 'rt' for ray tracing and generating photo-realistic renders. Can also be 'rt-fast' for a faster but lower quality ray-traced renderer\")\n",
    "    parser.add_argument(\"--record-dir\", type=str, default=\"demos\", help=\"where to save the recorded trajectories\")"
   ]
  },
  {
   "cell_type": "code",
   "execution_count": null,
   "metadata": {},
   "outputs": [],
   "source": [
    "!python -m mani_skill.examples.motionplanning.panda.run -e \"PickCube-v1\"\\\n",
    "    --save-video \\\n",
    "    --num-traj 10 \\\n",
    "    --only-count-success \\\n",
    "    --record-dir /content/drive/MyDrive/Data/Training/generated\n",
    "    \n",
    "\n"
   ]
  },
  {
   "cell_type": "code",
   "execution_count": null,
   "metadata": {},
   "outputs": [],
   "source": [
    "\n",
    "file_path = \"/content/drive/MyDrive/Data/Training/generated\""
   ]
  },
  {
   "cell_type": "code",
   "execution_count": null,
   "metadata": {},
   "outputs": [],
   "source": [
    "\n",
    "!python -m mani_skill.trajectory.replay_trajectory \\\n",
    "  --traj-path /content/drive/MyDrive/Data/Training/generated \\\n",
    "  --save-traj \\\n",
    "  --obs-mode pointcloud \\\n",
    "  --sim-backend gpu"
   ]
  }
 ],
 "metadata": {
  "kernelspec": {
   "display_name": "myenv",
   "language": "python",
   "name": "python3"
  },
  "language_info": {
   "name": "python",
   "version": "3.12.3"
  }
 },
 "nbformat": 4,
 "nbformat_minor": 2
}
